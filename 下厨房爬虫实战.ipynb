{
 "cells": [
  {
   "cell_type": "markdown",
   "metadata": {
    "id": "58D162A849874F9B9EC8BBC7F4BB0B37",
    "jupyter": {},
    "slideshow": {
     "slide_type": "slide"
    },
    "tags": []
   },
   "source": [
    "# 爬取下厨房的数据"
   ]
  },
  {
   "cell_type": "markdown",
   "metadata": {
    "id": "50ACAB6D838342EF9285FE6B4DE3BAC3",
    "jupyter": {},
    "slideshow": {
     "slide_type": "slide"
    },
    "tags": []
   },
   "source": [
    "\n",
    "数据的获取，是数据分析和数据可视化的前提。\n",
    "\n",
    "我们通过爬取下厨房网站的菜谱数据，继续进行爬虫技术的学习。"
   ]
  },
  {
   "cell_type": "code",
   "execution_count": null,
   "metadata": {
    "id": "B4F747C7C8474E0B8DEF8AA7C88D4AEF",
    "jupyter": {},
    "slideshow": {
     "slide_type": "slide"
    },
    "tags": []
   },
   "outputs": [],
   "source": [
    "import requests  # 导入request 库\n",
    "# 获取网页源代码\n",
    "url = 'https://www.xiachufang.com/category/957/'\n",
    "res = requests.get(url)\n",
    "res.encoding='utf-8'\n",
    "print(res.text)"
   ]
  },
  {
   "cell_type": "markdown",
   "metadata": {
    "id": "37F47D4432AF4F7D8395ED8622EA5685",
    "jupyter": {},
    "slideshow": {
     "slide_type": "slide"
    },
    "tags": []
   },
   "source": [
    "接下来，我们对请求回来的文本数据，使用lxml进行解析。\n",
    "\n",
    "**lxml**是python的一个解析库，支持HTML和XML的解析，支持**XPath**解析方式，而且解析效率非常高。\n",
    "\n",
    "**XPath**，全称**XML Path Language**，即XML路径语言，它是一门在XML文档中查找信息的语言，它最初是用来搜寻XML文档的，但是它同样适用于HTML文档的搜索\n",
    "\n",
    "XPath的选择功能十分强大，它提供了非常简明的路径选择表达式，另外，它还提供了超过100个内建函数，用于字符串、数值、时间的匹配以及节点、序列的处理等，几乎所有我们想要定位的节点，都可以用XPath来选择。"
   ]
  },
  {
   "cell_type": "code",
   "execution_count": null,
   "metadata": {
    "id": "5655A553C43C484E856A2DA6A430D47D",
    "jupyter": {},
    "slideshow": {
     "slide_type": "slide"
    },
    "tags": []
   },
   "outputs": [],
   "source": [
    "from lxml import etree  # 为了使用xpath解析工具，我们先导入etree\n",
    "parsed = etree.HTML(res.text)  # 对返回的源代码进行解析，解析后的结果命名为parsed"
   ]
  },
  {
   "cell_type": "markdown",
   "metadata": {
    "id": "E7E6074091EA454182137898CC9AFB23",
    "jupyter": {},
    "slideshow": {
     "slide_type": "slide"
    },
    "tags": []
   },
   "source": [
    "XPath 的调用语法为：\n",
    "\n",
    "- `parsed.xpath('your xpath')`\n",
    "\n",
    "下面来看一个例子\n",
    "\n",
    "我们首先在浏览器中找到内容的xpath，然后输入下面的代码里面。"
   ]
  },
  {
   "cell_type": "code",
   "execution_count": null,
   "metadata": {},
   "outputs": [],
   "source": [
    "parsed.xpath('/html/body/div[4]/div/div/div[1]/div[1]/div/div[2]/div[2]/div[2]/ul/li[2]/div/div/p[1]/a/text()')"
   ]
  },
  {
   "cell_type": "markdown",
   "metadata": {},
   "source": [
    "Xpath 是一个路径语言\n",
    "\n",
    "- `/`单个斜杠是绝对路径\n",
    "\n",
    "- `//`两个斜杠是相对路径\n",
    "\n",
    "- `[]`方括号是属性条件\n",
    "- `@`是选择属性"
   ]
  },
  {
   "cell_type": "code",
   "execution_count": null,
   "metadata": {},
   "outputs": [],
   "source": [
    "parsed.xpath('//p/a[@href=\"/recipe/103739083/\"]/text()')"
   ]
  },
  {
   "cell_type": "markdown",
   "metadata": {
    "id": "983A42E1925C465CAE8E0EF5A726AB4D",
    "jupyter": {},
    "slideshow": {
     "slide_type": "slide"
    },
    "tags": []
   },
   "source": [
    "通过修改最后一个路径，我们还可以获取菜谱的href属性，也就是菜谱编号。"
   ]
  },
  {
   "cell_type": "code",
   "execution_count": null,
   "metadata": {
    "id": "FAECF4A269814D21B5CB75CEE769F174",
    "jupyter": {},
    "slideshow": {
     "slide_type": "slide"
    },
    "tags": []
   },
   "outputs": [],
   "source": [
    "parsed.xpath('//p/a[@href=\"/recipe/103739083/\"]/@href')"
   ]
  },
  {
   "cell_type": "markdown",
   "metadata": {
    "id": "94239EA0CBDF4F43960F7422BE747900",
    "jupyter": {},
    "slideshow": {
     "slide_type": "slide"
    },
    "tags": []
   },
   "source": [
    "更多的时候，我们关心如何拿到该页面所有的菜谱信息。\n",
    "\n",
    "这里我们下载一个`XpathHelper`插件,方便后续的分析。"
   ]
  },
  {
   "cell_type": "markdown",
   "metadata": {
    "id": "3E37010FEFEC41D39F9FCE9375AC8CCB",
    "jupyter": {},
    "slideshow": {
     "slide_type": "slide"
    },
    "tags": []
   },
   "source": [
    "去掉[1]就可以出现所有的菜名"
   ]
  },
  {
   "cell_type": "code",
   "execution_count": null,
   "metadata": {
    "id": "D52F7576EBD74CD9AA5C3F474E48C35E",
    "jupyter": {},
    "slideshow": {
     "slide_type": "slide"
    },
    "tags": []
   },
   "outputs": [],
   "source": [
    "parsed.xpath('/html/body/div[4]/div/div/div[1]/div[1]/div/div[2]/div[2]/div[2]/ul/li/div/div/p[1]/a/text()')"
   ]
  },
  {
   "cell_type": "markdown",
   "metadata": {
    "id": "695DC881F5B14EA2BA189346DBAF73C0",
    "jupyter": {},
    "slideshow": {
     "slide_type": "slide"
    },
    "tags": []
   },
   "source": [
    "上面的路径过于冗杂了，我们采用相对路径写法"
   ]
  },
  {
   "cell_type": "code",
   "execution_count": null,
   "metadata": {
    "id": "0852922CD4E047888832A702C3447FD6",
    "jupyter": {},
    "slideshow": {
     "slide_type": "slide"
    },
    "tags": []
   },
   "outputs": [],
   "source": [
    "parsed.xpath('//div[@class=\"ing-recipe\"]/div[@class=\"normal-recipe-list\"]/ul/li/div/div/p[1]/a/text()')"
   ]
  },
  {
   "cell_type": "markdown",
   "metadata": {
    "id": "123A861D3BA843BA83188A931DE3721F",
    "jupyter": {},
    "slideshow": {
     "slide_type": "slide"
    },
    "tags": []
   },
   "source": [
    "对于菜谱编号也是一样的"
   ]
  },
  {
   "cell_type": "code",
   "execution_count": null,
   "metadata": {
    "id": "2EC4AC4D2E2F43A59EA78B204316BF9B",
    "jupyter": {},
    "slideshow": {
     "slide_type": "slide"
    },
    "tags": []
   },
   "outputs": [],
   "source": [
    "parsed.xpath('//div[@class=\"ing-recipe\"]/div[@class=\"normal-recipe-list\"]/ul/li/div/div/p[1]/a/@href')"
   ]
  },
  {
   "cell_type": "markdown",
   "metadata": {
    "id": "14C6A033E28449BA9933721E50C1AA69",
    "jupyter": {},
    "slideshow": {
     "slide_type": "slide"
    },
    "tags": []
   },
   "source": [
    "接下来，我们使用DataFrame将其保存起来"
   ]
  },
  {
   "cell_type": "code",
   "execution_count": null,
   "metadata": {
    "id": "E6B557B5DB9B4220A73A63EF8EE38406",
    "jupyter": {},
    "slideshow": {
     "slide_type": "slide"
    },
    "tags": []
   },
   "outputs": [],
   "source": [
    "import requests  # 导入request 库\n",
    "from lxml import etree\n",
    "res = requests.get('https://www.xiachufang.com/category/957/')\n",
    "res.encoding='utf-8'\n",
    "parsed = etree.HTML(res.text)\n",
    "name = parsed.xpath('/html/body/div[4]/div/div/div[1]/div[1]/div/div[2]/div[2]/div[2]/ul/li/div/div/p[1]/a/text()')\n",
    "href = parsed.xpath('//div[@class=\"ing-recipe\"]/div[@class=\"normal-recipe-list\"]/ul/li/div/div/p[1]/a/@href')\n",
    "\n",
    "import pandas as pd \n",
    "recipe = pd.DataFrame()\n",
    "recipe['name'] = name\n",
    "recipe['href'] = href\n",
    "recipe\n",
    "# recipe.to_csv('recipe.csv',index = False,encoding = 'gbk')  # 这一行可以把数据存储到csv文件中"
   ]
  },
  {
   "cell_type": "markdown",
   "metadata": {
    "id": "69286561AAF240ABA51AF557CC543713",
    "jupyter": {},
    "slideshow": {
     "slide_type": "slide"
    },
    "tags": []
   },
   "source": [
    "# 实现翻页功能"
   ]
  },
  {
   "cell_type": "markdown",
   "metadata": {
    "id": "A4ABF7A26F8A41D4A23495E7879F4486",
    "jupyter": {},
    "slideshow": {
     "slide_type": "slide"
    },
    "tags": []
   },
   "source": [
    "通过上面的代码，我们已经爬取了一个页面的菜谱信息，接下来我们学习如何翻页     "
   ]
  },
  {
   "cell_type": "code",
   "execution_count": null,
   "metadata": {
    "id": "99FD79CD5BB549E1B290B00D7E9039AF",
    "jupyter": {},
    "slideshow": {
     "slide_type": "slide"
    },
    "tags": []
   },
   "outputs": [],
   "source": [
    "res = requests.get(url+'?page='+str(2),headers = headers)\n",
    "res.text"
   ]
  },
  {
   "cell_type": "code",
   "execution_count": null,
   "metadata": {
    "id": "1D32D0C2816A446C88B32AD2BB5E3A7F",
    "jupyter": {},
    "slideshow": {
     "slide_type": "slide"
    },
    "tags": []
   },
   "outputs": [],
   "source": [
    "import requests  # 导入request 库\n",
    "import pandas as pd\n",
    "from lxml import etree\n",
    "import pandas as pd \n",
    "# 获取网页源代码\n",
    "url = 'https://www.xiachufang.com/category/957/' # 设置url\n",
    "headers = {'User-Agent': 'Mozilla/5.0 (Windows NT 10.0; Win64; x64) AppleWebKit/537.36 (KHTML, like Gecko) Chrome/80.0.3987.149 Safari/537.36'}\n",
    "\n",
    "data_all = pd.DataFrame()\n",
    "for i in range(1,11+1):\n",
    "    print('正在爬取第{}页的数据'.format(i))\n",
    "    res = requests.get(url+'?page='+str(i),headers = headers) # 访问url，获取源代码\n",
    "    res.encoding='utf-8'  # 解码\n",
    "    \n",
    "    parsed = etree.HTML(res.text) # 使用 etree对文本进行解析，得到树型的结构\n",
    "\n",
    "    # 获取菜名\n",
    "    name = parsed.xpath('/html/body/div[4]/div/div/div[1]/div[1]/div/div[2]/div[2]/div[2]/ul/li/div/div/p[1]/a/text()')\n",
    "    # 获取菜的主页链接\n",
    "    href = parsed.xpath('//div[@class=\"ing-recipe\"]/div[@class=\"normal-recipe-list\"]/ul/li/div/div/p[1]/a/@href')\n",
    "    \n",
    "    # 保存数据\n",
    "    recipe = pd.DataFrame()\n",
    "    recipe['name'] = name\n",
    "    recipe['href'] = href\n",
    "    \n",
    "    # 将本页的数据，添加到总数据表格中\n",
    "    data_all = pd.concat([data_all,recipe],ignore_index = True)\n",
    "data_all\n",
    "# recipe.to_csv('recipe.csv',index = False,encoding = 'gbk')  # 取消注释这一行，可以将数据保存在自己的电脑"
   ]
  },
  {
   "cell_type": "markdown",
   "metadata": {
    "id": "89149163BAF548069FBB82A53B7B5F79",
    "jupyter": {},
    "slideshow": {
     "slide_type": "slide"
    },
    "tags": []
   },
   "source": [
    "# 评论爬取和异步加载"
   ]
  },
  {
   "cell_type": "markdown",
   "metadata": {
    "id": "AA03C60122874371B0441D0EFA39741F",
    "jupyter": {},
    "slideshow": {
     "slide_type": "slide"
    },
    "tags": []
   },
   "source": [
    "下面我们来尝试爬取菜谱的评论数据，在其中我们学习**异步加载**的知识。"
   ]
  },
  {
   "cell_type": "code",
   "execution_count": null,
   "metadata": {
    "id": "CF571E274D2A4626AFBBA35816368F3D",
    "jupyter": {},
    "slideshow": {
     "slide_type": "slide"
    },
    "tags": []
   },
   "outputs": [],
   "source": [
    "import requests  # 导入request 库\n",
    "from lxml import etree\n",
    "import pandas as pd\n",
    "# 指定请求头\n",
    "headers = {'User-Agent': 'Mozilla/5.0 (Windows NT 10.0; Win64; x64) AppleWebKit/537.36 (KHTML, like Gecko) Chrome/80.0.3987.149 Safari/537.36'}\n",
    "# 获取网页源代码\n",
    "page = 1\n",
    "data_all = pd.DataFrame()\n",
    "while True:\n",
    "    res = requests.get('https://www.xiachufang.com/recipe/100458895/questions/?order=hot&page='+str(page),headers = headers)\n",
    "    res.encoding='utf-8'\n",
    "    #print(res.text)\n",
    "    print('正在爬取第{}页的数据'.format(page))\n",
    "    \n",
    "    parsed = etree.HTML(res.text)\n",
    "\n",
    "    nickname = parsed.xpath('//div[@class=\"right-top info\"]/a/text()') # 用户名\n",
    "    href =  parsed.xpath('//div[@class=\"right-top info\"]/a/@href')  # 主页链接\n",
    "    \n",
    "    comment = parsed.xpath('//div[@class=\"right-bottom\"]')  # 评论内容\n",
    "    comment = [com.text.split()[0] for com in comment]   # 对评论内容进行处理\n",
    "    \n",
    "    time =  parsed.xpath('//div[@class=\"right-top info\"]/span')  # 评论时间\n",
    "    time = [t.text.split()[0] for t in time]   # 对评论时间进行处理\n",
    "    vote = parsed.xpath('//div[@class=\"right-top info\"]/span/div/span/span/text()')  # 点赞数\n",
    "    \n",
    "\n",
    "    # 保存数据\n",
    "    data = pd.DataFrame()\n",
    "    data['nickname'] = nickname\n",
    "    data['href'] = href\n",
    "    data['comment'] = comment\n",
    "    data['time'] = time\n",
    "    data['vote'] = vote\n",
    "    \n",
    "\n",
    "    # 汇入总表格\n",
    "    data_all = pd.concat([data_all,data],   ignore_index = False)\n",
    "\n",
    "\n",
    "    \n",
    "    # 爬虫结束条件\n",
    "    if res.text.find('暂无最热的留言') == -1:\n",
    "        page = page +1\n",
    "    else:\n",
    "        break \n",
    "data_all\n",
    "# recipe.to_csv('recipe.csv',index = False,encoding = 'gbk')"
   ]
  }
 ],
 "metadata": {
  "kernelspec": {
   "display_name": "Python 3",
   "language": "python",
   "name": "python3"
  },
  "language_info": {
   "codemirror_mode": {
    "name": "ipython",
    "version": 3
   },
   "file_extension": ".py",
   "mimetype": "text/x-python",
   "name": "python",
   "nbconvert_exporter": "python",
   "pygments_lexer": "ipython3",
   "version": "3.6.4"
  },
  "toc": {
   "base_numbering": 1,
   "nav_menu": {},
   "number_sections": true,
   "sideBar": true,
   "skip_h1_title": false,
   "title_cell": "Table of Contents",
   "title_sidebar": "Contents",
   "toc_cell": false,
   "toc_position": {},
   "toc_section_display": true,
   "toc_window_display": false
  }
 },
 "nbformat": 4,
 "nbformat_minor": 2
}
